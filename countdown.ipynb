{
 "cells": [
  {
   "cell_type": "markdown",
   "metadata": {},
   "source": [
    "# Countdown\n",
    "\n",
    "***"
   ]
  },
  {
   "cell_type": "markdown",
   "metadata": {},
   "source": [
    "### **Explanation of the Countdown Numbers Game**\n",
    "\n",
    "The Countdown Numbers Game is a challenging segment of the British game show \"Countdown\". The objective of the game is to reach a target number using a combination of arithmetic operations on a given set of numbers. Here are the detailed rules:\n",
    "\n",
    "##### **Game Setup**\n",
    "\n",
    "1. **Numbers Selection:** Six numbers are chosen at random. These numbers come from a predefined set that includes:\n",
    "\n",
    "Two sets of the numbers 1 to 10 (inclusive).\n",
    "One set each of the numbers 25, 50, 75, and 100.\n",
    "\n",
    "2. **Target Number:** A random three-digit number (between 101 and 999 inclusive) is generated. This number serves as the target for the round.\n",
    "\n",
    "##### **Gameplay Rules**\n",
    "\n",
    "1. **Basic Operations:** Players can use addition (+), subtraction (-), multiplication (×), and division (÷) to combine the chosen numbers.\n",
    "\n",
    "2. **Number Usage:**\n",
    "- Each of the six chosen numbers can be used once at most.\n",
    "- If two identical numbers are chosen, each can be used separately.\n",
    "\n",
    "3. **Restrictions on Operations:**\n",
    "\n",
    "- Division: Only allowed if it results in a whole number.\n",
    "- Subtraction: Can only be used if it results in a positive number.\n",
    "\n",
    "4. **Objective:** Players aim to reach the exact target number or get as close as possible within the given constraints.\n",
    "\n",
    "##### **Scoring**\n",
    "\n",
    "- If a player reaches the target number exactly, they score maximum points.\n",
    "- If no one reaches the target, the player with the closest number scores points based on how close they are.\n",
    "- In some cases, it might not be possible to reach the target number with the given set of numbers."
   ]
  },
  {
   "cell_type": "markdown",
   "metadata": {},
   "source": [
    "### Computational Complexity Analysis\n",
    "\n",
    "***"
   ]
  },
  {
   "cell_type": "markdown",
   "metadata": {},
   "source": [
    "**Number of Possible Combinations:**\n",
    "\n",
    "One of the first things to consider is the combination of 6 numbers chosen from the set. Ignoring the specific values and focusing on the positions, the number of ways to choose six numbers from a set of 24 (since there are two sets of 1-10, plus the four unique numbers: 25, 50, 75, 100) is given by the combination formula $C(n, k) = \\frac{n!}{k!(n-k)!}$. Where $n$ is the total number of items (24) and $k$ is the number of items to choose (6).\n",
    "\n",
    "However, considering the specific values and the possibility of repeating numbers, the calculation becomes more complex, as we must account for the permutations of these numbers, especially when duplicates are involved.\n"
   ]
  },
  {
   "cell_type": "markdown",
   "metadata": {},
   "source": [
    "**Number of Operations**\n",
    "\n",
    "For each pair of numbers, there are four possible operations. If we consider a sequence of operations on the six numbers, we must account for the exponentially growing number of ways to combine these operations as we increase the number of numbers involved.\n",
    "\n",
    "The sequence of operations can be represented as a binary tree, where each node represents an operation applied to either two numbers or the result of previous operations. The depth of this tree and the number of nodes (operations) increase significantly with each additional number."
   ]
  },
  {
   "cell_type": "markdown",
   "metadata": {},
   "source": [
    "**Big O Notation**\n",
    "\n",
    "Given the exponential growth in the number of operations and combinations as the number of involved numbers increases, the worst-case scenario for solving the Countdown numbers game algorithmically is factorial in nature, leading to a complexity of $O(n!)$ where $n$ is the number of numbers used in the calculation. This is due to the need to explore nearly every combination of numbers and operations to guarantee finding the solution.\n",
    "\n",
    "However, practical implementations often use algorithmic rule or optimization techniques to reduce the search space, such as reducing impossible or redundant paths, dynamic programming to reuse intermediate results, or even applying specific algorithms designed for constraint satisfaction problems which can lower the effective complexity for most cases."
   ]
  },
  {
   "cell_type": "markdown",
   "metadata": {},
   "source": [
    "***"
   ]
  },
  {
   "cell_type": "markdown",
   "metadata": {},
   "source": [
    "### Analysis of Reverse Polish Notation (RPN) Complexity\n",
    "\n",
    "Reverse Polish Notation (RPN) is a mathematical notation where every operator follows all of its operands, eliminating the need for parentheses to denote operations order. This section will explore the computational complexity of implementing and using RPN in algorithms, particularly focusing on its application in arithmetic operations as relevant to computational tasks like those in your project.\n",
    "\n",
    "#### Computational Complexity of Parsing and Evaluating RPN\n",
    "\n",
    "1. **Parsing Complexity**:\n",
    "   - **Constant Time per Element**: Parsing an RPN expression involves reading and processing each token (either an operand or operator) exactly once in a single left-to-right pass, making the parsing process linear with respect to the length of the expression. Thus, the complexity of parsing an RPN expression is \\(O(n)\\), where \\(n\\) is the number of tokens in the expression.\n",
    "\n",
    "2. **Evaluation Complexity**:\n",
    "   - **Linear Time Evaluation**: Evaluating an RPN expression also proceeds in a single pass using a stack to keep track of operands. For each operator encountered, the necessary operands are popped from the stack, the operation is performed, and the result is pushed back onto the stack. Since each token is handled once, the evaluation complexity is \\(O(n)\\), making the entire process of parsing and evaluating an RPN expression efficiently linear.\n",
    "\n",
    "#### Stack Operations and Their Efficiency\n",
    "\n",
    "The key to RPN's efficiency is the use of a stack data structure, which allows operations to be performed in constant time under typical conditions:\n",
    "\n",
    "- **Push Operation**: Adding an operand or a result to the stack takes constant time, \\(O(1)\\).\n",
    "- **Pop Operation**: Removing operands for an operation takes constant time, \\(O(1)\\).\n",
    "- **Peek Operation**: Checking the top value of the stack without removing it is done in constant time, \\(O(1)\\).\n",
    "\n",
    "These stack operations ensure that each token (operand or operator) in the RPN expression is processed in constant time, contributing to the overall linear complexity of the RPN evaluation process.\n",
    "\n",
    "#### Benefits of RPN in Computational Tasks\n",
    "\n",
    "RPN simplifies the computation of arithmetic expressions by removing the need for operator precedence and parentheses, which are essential in traditional infix notation. This simplification can lead to more straightforward implementation of algorithms that need to evaluate expressions, such as those solving the Countdown numbers game in your project. The benefits include:\n",
    "\n",
    "- **Reduced Error and Simplicity**: Fewer errors in implementation due to the straightforward nature of the parsing and evaluation process.\n",
    "- **Speed**: Faster computation times in practice, as the linear pass reduces the cognitive and computational overhead associated with managing operator precedence and parentheses.\n",
    "\n",
    "#### Considerations for Implementation in Countdown Game Solver\n",
    "\n",
    "When implementing RPN in a solver for the Countdown numbers game, consider the following:\n",
    "\n",
    "- **Expression Generation**: Efficiently generating all viable RPN expressions that could potentially solve for the target number is non-trivial and may require combinatorial strategies or heuristic approaches to manage the exponential growth of possibilities.\n",
    "- **Optimisation**: Using techniques like memoisation in conjunction with RPN can further enhance performance, especially when repeated calculations with similar operands are involved.\n",
    "\n",
    "In summary, Reverse Polish Notation offers a streamlined and efficient method for handling arithmetic expressions, particularly useful in computational projects requiring extensive calculation. Its linear complexity for parsing and evaluation makes it an attractive choice for algorithms that need to be both fast and reliable."
   ]
  },
  {
   "cell_type": "markdown",
   "metadata": {},
   "source": [
    "***"
   ]
  },
  {
   "cell_type": "markdown",
   "metadata": {},
   "source": [
    "This Python code simulates an interactive version of the \"Countdown\" numbers game."
   ]
  },
  {
   "cell_type": "code",
   "execution_count": 9,
   "metadata": {},
   "outputs": [],
   "source": [
    "import random\n",
    "import itertools\n",
    "import operator\n",
    "import time\n"
   ]
  },
  {
   "cell_type": "code",
   "execution_count": 10,
   "metadata": {},
   "outputs": [],
   "source": [
    "def setup_game():\n",
    "    small = list(range(1, 11))  # Possible small numbers\n",
    "    large = [25, 50, 75, 100]  # Possible large numbers\n",
    "    \n",
    "    # Prompt the user for the number of large numbers they want to use\n",
    "    while True:\n",
    "        try:\n",
    "            num_large = int(input(\"Enter the number of large numbers to use (0 to 2): \"))\n",
    "            if 0 <= num_large <= 2:\n",
    "                break\n",
    "            else:\n",
    "                print(\"Please enter a valid number between 0 and 2.\")\n",
    "        except ValueError:\n",
    "            print(\"Please enter an integer.\")\n",
    "    \n",
    "    # Select numbers based on user input\n",
    "    chosen_numbers = random.sample(small, 6 - num_large) + random.sample(large, num_large)\n",
    "    target_number = random.randint(101, 999)\n",
    "    return chosen_numbers, target_number\n"
   ]
  },
  {
   "cell_type": "code",
   "execution_count": 11,
   "metadata": {},
   "outputs": [],
   "source": [
    "def operation_allowed(num1, num2, operation):\n",
    "    if operation == operator.truediv and (num2 == 0 or num1 % num2 != 0):\n",
    "        return False\n",
    "    if operation == operator.sub and (num1 - num2 < 0):\n",
    "        return False\n",
    "    return True\n",
    "\n",
    "def perform_operation(num1, num2, operation):\n",
    "    return operation(num1, num2)\n",
    "\n",
    "def explore_combinations(elements):\n",
    "    if len(elements) == 1:\n",
    "        return {elements[0]: f\"{elements[0]}\"}\n",
    "    outcomes = {}\n",
    "    for i in range(len(elements)):\n",
    "        for j in range(i + 1, len(elements)):\n",
    "            num1, num2 = elements[i], elements[j]\n",
    "            other_elements = [elements[k] for k in range(len(elements)) if k != i and k != j]\n",
    "            for operation in (operator.add, operator.sub, operator.mul, operator.truediv):\n",
    "                if operation_allowed(num1, num2, operation):\n",
    "                    result = perform_operation(num1, num2, operation)\n",
    "                    operation_symbol = {operator.add: '+', operator.sub: '-', operator.mul: '*', operator.truediv: '/'}\n",
    "                    next_step_results = explore_combinations(other_elements + [result])\n",
    "                    expression_format = f\"({num1} {operation_symbol[operation]} {num2})\"\n",
    "                    for outcome, formula in next_step_results.items():\n",
    "                        combined_expression = f\"{expression_format} => {formula}\"\n",
    "                        if outcome not in outcomes or len(combined_expression) < len(outcomes[outcome]):\n",
    "                            outcomes[outcome] = combined_expression\n",
    "    return outcomes\n"
   ]
  },
  {
   "cell_type": "code",
   "execution_count": 12,
   "metadata": {},
   "outputs": [
    {
     "name": "stdout",
     "output_type": "stream",
     "text": [
      "Chosen Numbers: [8, 7, 1, 3, 4, 100]\n",
      "Goal: 793\n",
      "Detailed Steps:\n",
      "(8 - 4)\n",
      "(7 + 1)\n",
      "(100 * 8)\n",
      "(3 + 4)\n",
      "(800 - 7)\n",
      "793\n",
      "Final Outcome: 793\n",
      "Calculation Time: 2.27 seconds\n"
     ]
    }
   ],
   "source": [
    "def solve_numbers(numbers, target):\n",
    "    start = time.time()\n",
    "    permutations_of_numbers = itertools.permutations(numbers)\n",
    "    nearest_match = None\n",
    "    minimal_difference = float('inf')\n",
    "    for sequence in permutations_of_numbers:\n",
    "        results = explore_combinations(list(sequence))\n",
    "        for value, calculation in results.items():\n",
    "            difference = abs(target - value)\n",
    "            if difference < minimal_difference:\n",
    "                minimal_difference = difference\n",
    "                nearest_match = (value, calculation)\n",
    "                if minimal_difference == 0:\n",
    "                    elapsed_time = time.time() - start\n",
    "                    return nearest_match, elapsed_time\n",
    "    elapsed_time = time.time() - start\n",
    "    return nearest_match, elapsed_time\n",
    "\n",
    "selected_numbers, game_target = setup_game()\n",
    "print(\"Chosen Numbers:\", selected_numbers)\n",
    "print(\"Goal:\", game_target)\n",
    "solution, time_taken = solve_numbers(selected_numbers, game_target)\n",
    "if solution:\n",
    "    final_result, detailed_solution = solution\n",
    "    print(\"Detailed Steps:\")\n",
    "    for step in detailed_solution.split(\" => \"):\n",
    "        print(step)\n",
    "    print(f\"Final Outcome: {final_result}\")\n",
    "else:\n",
    "    print(\"No viable solution was found.\")\n",
    "print(f\"Calculation Time: {time_taken:.2f} seconds\")\n"
   ]
  },
  {
   "cell_type": "markdown",
   "metadata": {},
   "source": [
    "***\n",
    "\n",
    "### Refrences\n",
    "\n",
    "https://colab.research.google.com/github/ianmcloughlin/notebooks/blob/main/big_o.ipynb\n",
    "\n",
    "https://ianmcloughlin.github.io/reverse_polish_notation/"
   ]
  }
 ],
 "metadata": {
  "kernelspec": {
   "display_name": "Python 3",
   "language": "python",
   "name": "python3"
  },
  "language_info": {
   "codemirror_mode": {
    "name": "ipython",
    "version": 3
   },
   "file_extension": ".py",
   "mimetype": "text/x-python",
   "name": "python",
   "nbconvert_exporter": "python",
   "pygments_lexer": "ipython3",
   "version": "3.11.0"
  }
 },
 "nbformat": 4,
 "nbformat_minor": 2
}
