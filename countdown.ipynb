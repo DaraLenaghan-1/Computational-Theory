{
 "cells": [
  {
   "cell_type": "markdown",
   "metadata": {},
   "source": [
    "# Countdown\n",
    "\n",
    "***"
   ]
  },
  {
   "cell_type": "markdown",
   "metadata": {},
   "source": [
    "### **Explanation of the Countdown Numbers Game**\n",
    "\n",
    "The Countdown Numbers Game is a challenging segment of the British game show \"Countdown\". The objective of the game is to reach a target number using a combination of arithmetic operations on a given set of numbers. Here are the detailed rules:\n",
    "\n",
    "##### **Game Setup**\n",
    "\n",
    "1. **Numbers Selection:** Six numbers are chosen at random. These numbers come from a predefined set that includes:\n",
    "\n",
    "Two sets of the numbers 1 to 10 (inclusive).\n",
    "One set each of the numbers 25, 50, 75, and 100.\n",
    "\n",
    "2. **Target Number:** A random three-digit number (between 101 and 999 inclusive) is generated. This number serves as the target for the round.\n",
    "\n",
    "##### **Gameplay Rules**\n",
    "\n",
    "1. **Basic Operations:** Players can use addition (+), subtraction (-), multiplication (×), and division (÷) to combine the chosen numbers.\n",
    "\n",
    "2. **Number Usage:**\n",
    "- Each of the six chosen numbers can be used once at most.\n",
    "- If two identical numbers are chosen, each can be used separately.\n",
    "\n",
    "3. **Restrictions on Operations:**\n",
    "\n",
    "- Division: Only allowed if it results in a whole number.\n",
    "- Subtraction: Can only be used if it results in a positive number.\n",
    "\n",
    "4. **Objective:** Players aim to reach the exact target number or get as close as possible within the given constraints.\n",
    "\n",
    "##### **Scoring**\n",
    "\n",
    "- If a player reaches the target number exactly, they score maximum points.\n",
    "- If no one reaches the target, the player with the closest number scores points based on how close they are.\n",
    "- In some cases, it might not be possible to reach the target number with the given set of numbers."
   ]
  },
  {
   "cell_type": "markdown",
   "metadata": {},
   "source": [
    "### Common Strategies\n",
    "\n",
    "##### 1. **Prioritise Multiplication and Division**\n",
    "- **Multiplication** can quickly increase the value, especially when using larger numbers. Contestants often try to multiply early to get closer to high targets.\n",
    "- **Division** is useful for adjusting values precisely but can only be used when it results in an integer. Skilled players look for opportunities to divide by numbers that are factors of the current total, especially when the target or intermediate results are large.\n",
    "\n",
    "##### 2. **Use Addition and Subtraction Carefully**\n",
    "- **Addition** is straightforward but can lead to overshooting the target if not planned well.\n",
    "- **Subtraction** can be tricky since it must not result in negative numbers. Players often use subtraction to fine-tune their totals, especially as they get closer to the target number.\n",
    "\n",
    "##### 3. **Backtracking**\n",
    "- If players find themselves far from the target or stuck with unusable numbers, they may backtrack to an earlier step and try a different operation or number pairing. This strategy allows for exploring different paths that might lead closer to the target.\n",
    "\n",
    "##### 4. **Save Key Numbers**\n",
    "- Some numbers are more versatile (like 1, 10, or numbers close to the target). Saving these for the final steps can provide more flexibility in reaching the exact target.\n",
    "\n",
    "##### 5. **Break Down the Target**\n",
    "- Breaking the target number into component parts that are easier to achieve with the available numbers can simplify the process. For instance, if the target is 924, one might aim to create 900 and 24 separately and then add them.\n",
    "\n",
    "##### 6. **Avoid Unnecessary Complexity**\n",
    "- While it might be tempting to use all numbers or complex operations, sometimes simpler solutions are more efficient and less risky. Contestants often evaluate the simplest path to the target before committing to more complex calculations.\n",
    "\n",
    "##### 7. **Practice Mental Math**\n",
    "- Regular practice with mental arithmetic can significantly enhance a contestant's ability to quickly see possible combinations and operations that lead to the target.\n",
    "\n",
    "##### 8. **Use Estimation**\n",
    "- When the game starts, estimating which numbers and operations might be most effective in approaching the target can help in planning the sequence of steps.\n",
    "\n",
    "These strategies require not only mathematical skills but also a strategic approach to problem-solving, where contestants must continually adapt their methods based on the numbers and target they are given."
   ]
  },
  {
   "cell_type": "markdown",
   "metadata": {},
   "source": [
    "### Computational Complexity Analysis\n",
    "\n",
    "***"
   ]
  },
  {
   "cell_type": "markdown",
   "metadata": {},
   "source": [
    "**Number of Possible Combinations:**\n",
    "\n",
    "One of the first things to consider is the combination of 6 numbers chosen from the set. Ignoring the specific values and focusing on the positions, the number of ways to choose six numbers from a set of 24 (since there are two sets of 1-10, plus the four unique numbers: 25, 50, 75, 100) is given by the combination formula $C(n, k) = \\frac{n!}{k!(n-k)!}$. Where $n$ is the total number of items (24) and $k$ is the number of items to choose (6).\n",
    "\n",
    "However, considering the specific values and the possibility of repeating numbers, the calculation becomes more complex, as we must account for the permutations of these numbers, especially when duplicates are involved.\n"
   ]
  },
  {
   "cell_type": "markdown",
   "metadata": {},
   "source": [
    "**Number of Operations**\n",
    "\n",
    "For each pair of numbers, there are four possible operations. If we consider a sequence of operations on the six numbers, we must account for the exponentially growing number of ways to combine these operations as we increase the number of numbers involved.\n",
    "\n",
    "The sequence of operations can be represented as a binary tree, where each node represents an operation applied to either two numbers or the result of previous operations. The depth of this tree and the number of nodes (operations) increase significantly with each additional number."
   ]
  },
  {
   "cell_type": "markdown",
   "metadata": {},
   "source": [
    "**Big O Notation**\n",
    "\n",
    "Given the exponential growth in the number of operations and combinations as the number of involved numbers increases, the worst-case scenario for solving the Countdown numbers game algorithmically is factorial in nature, leading to a complexity of $O(n!)$ where $n$ is the number of numbers used in the calculation. This is due to the need to explore nearly every combination of numbers and operations to guarantee finding the solution.\n",
    "\n",
    "However, practical implementations often use algorithmic rule or optimization techniques to reduce the search space, such as reducing impossible or redundant paths, dynamic programming to reuse intermediate results, or even applying specific algorithms designed for constraint satisfaction problems which can lower the effective complexity for most cases."
   ]
  },
  {
   "cell_type": "markdown",
   "metadata": {},
   "source": [
    "***"
   ]
  },
  {
   "cell_type": "markdown",
   "metadata": {},
   "source": [
    "## Analysis of Reverse Polish Notation (RPN) Complexity\n",
    "\n",
    "Reverse Polish Notation (RPN) is a mathematical notation in which each operator follows all of its operands, removing the need for parentheses to indicate the order of operations. This explanation focuses on the computational aspects of implementing and utilizing RPN, particularly in arithmetic operations that are critical to computational tasks such as those found in your project.\n",
    "\n",
    "**Computational Aspects of RPN**\n",
    "\n",
    "1. **Parsing RPN**: Parsing an RPN expression involves processing each token—whether an operand or an operator—exactly once in a single, left-to-right pass. This direct method results in a parsing process that scales linearly with the length of the expression, hence the complexity of parsing an RPN expression is \\(O(n)\\), where \\(n\\) is the number of tokens.\n",
    "\n",
    "2. **Evaluating RPN**: Evaluating an RPN expression also follows a linear trajectory using a stack to manage operands. For each operator, the necessary operands are popped from the stack, the operation is executed, and the result is pushed back onto the stack. Like parsing, the evaluation process handles each token once, maintaining a linear complexity, \\(O(n)\\).\n",
    "\n",
    "**Efficiency of Stack Operations**\n",
    "- **Push Operation**: Adding an operand or a result to the stack is a quick operation, taking constant time, \\(O(1)\\).\n",
    "- **Pop Operation**: Removing operands for an operation is similarly efficient, occurring in constant time, \\(O(1)\\).\n",
    "- **Peek Operation**: Checking the top value of the stack without removing it also takes place in constant time, \\(O(1)\\).\n",
    "\n",
    "These stack operations contribute to the overall efficiency, ensuring that each token in the RPN expression is processed swiftly, thereby supporting the linear complexity of the RPN evaluation process.\n",
    "\n",
    "**Benefits of RPN in Computational Tasks**\n",
    "- **Simplicity and Reduced Error**: RPN simplifies computations by eliminating the need for parentheses and operator precedence, leading to fewer errors and a straightforward implementation process.\n",
    "- **Speed**: The linear nature of both parsing and evaluating RPN expressions results in faster computation times, reducing both cognitive and computational overhead.\n",
    "\n",
    "**Considerations for Implementation in Computational Projects**\n",
    "In applications such as a solver for the Countdown numbers game using RPN:\n",
    "- **Expression Generation**: Efficiently generating viable RPN expressions that can solve for a target number involves complex strategies to manage the exponential growth of possible combinations.\n",
    "- **Optimization**: Using optimization techniques like memoization can enhance performance, particularly when similar calculations recur.\n",
    "\n",
    "Overall, Reverse Polish Notation offers an efficient and effective method for handling arithmetic expressions, particularly useful in computational projects that require rapid and reliable calculations. Its streamlined approach and linear complexity make it a favorable choice for algorithmic implementations."
   ]
  },
  {
   "cell_type": "markdown",
   "metadata": {},
   "source": [
    "***"
   ]
  },
  {
   "cell_type": "markdown",
   "metadata": {},
   "source": [
    "## Analysis of Big O Notation in the Countdown Game Solver\n",
    "\n",
    "Big O Notation is a mathematical concept used to describe the performance and scalability of algorithms. It's especially useful for understanding how the time or space needed for an algorithm increases with the size of the input data.\n",
    "\n",
    "### **Understanding Big O Notation in the Countdown Game Solver**\n",
    "\n",
    "**Algorithmic Complexity:**\n",
    "- **Factorial Time Complexity (\\(O(n!)\\)):** The Countdown solver's methodology, which involves generating all permutations of the provided numbers and exploring different arithmetic operation combinations, leads to factorial time complexity. This happens because the total permutations of \\(n\\) numbers are \\(n!\\), and the solver examines each permutation with multiple operation combinations recursively.\n",
    "\n",
    "**Permutations and Combinatorial Explosion:**\n",
    "- **Exponential Increase in Combinations:** With each permutation of numbers, the solver combines them with various operations (addition, subtraction, multiplication, division). This process, repeated recursively to identify a solution matching the target number, results in an exponential rise in the computational tasks as more numbers are included.\n",
    "\n",
    "### **Impacts of Factorial Complexity**\n",
    "\n",
    "**Scalability Issues:**\n",
    "- **Rapid Growth in Execution Time:** Due to factorial complexity, even a slight increase in the number set significantly heightens the solver’s execution time, impacting scalability and practicality, especially for larger number sets or real-time applications.\n",
    "\n",
    "**Optimization Approaches:**\n",
    "- **Pruning and Heuristics:** Implementing pruning strategies that discard unfeasible or less promising paths early can help manage complexity. Additionally, heuristic methods might be employed to prioritise paths likely leading to a solution, enhancing efficiency.\n",
    "\n",
    "### **Practical Application in the Countdown Game Solver**\n",
    "\n",
    "**Measuring Performance and Optimizing:**\n",
    "- **Assessing Time Complexity:** Monitoring the time it takes to find solutions under varying conditions provides valuable insights into the algorithm's efficiency and highlights potential bottlenecks.\n",
    "- **Adjusting Complexity Dynamically:** Allowing users to select how many large numbers to use lets you fine-tune the complexity to balance challenge and performance effectively.\n",
    "\n",
    "**Improving Solver Efficiency:**\n",
    "- **Memoization and Caching:** Using memoization to store and reuse previously computed results can significantly reduce the impact of factorial complexity by eliminating redundant calculations.\n",
    "- **Algorithm Enhancement:** Continuously refining the algorithm to optimize the sequence of operations and the handling of number combinations can further reduce computational demands."
   ]
  },
  {
   "cell_type": "markdown",
   "metadata": {},
   "source": [
    "***"
   ]
  },
  {
   "cell_type": "markdown",
   "metadata": {},
   "source": [
    "## Interactive Countdown Game Simulation\n",
    "\n",
    "This section of the notebook offers a complete overview and breakdown of the Countdown numbers game simulation in Python. Each function has a distinct role in facilitating the game's logic and user interaction."
   ]
  },
  {
   "cell_type": "code",
   "execution_count": 17,
   "metadata": {},
   "outputs": [],
   "source": [
    "import random\n",
    "import itertools\n",
    "import operator\n",
    "import time"
   ]
  },
  {
   "cell_type": "markdown",
   "metadata": {},
   "source": [
    "### Function Overviews\n",
    "\n",
    "#### `setup_game()`\n",
    "Initializes the game environment.\n",
    "\n",
    "- **Functionality**:\n",
    "  - **User Input**: Prompts the user for the number of large numbers to include.\n",
    "  - **Validation**: Ensures the input is within the allowed range (0-4).\n",
    "  - **Number Selection**: Randomly picks the specified number of large numbers and complements them with small numbers to make a set of six.\n",
    "  - **Target Generation**: Randomly sets a target number between 101 and 999.\n",
    "\n",
    "- **Returns**:\n",
    "  - A tuple containing the list of chosen numbers and the game's target number."
   ]
  },
  {
   "cell_type": "code",
   "execution_count": 18,
   "metadata": {},
   "outputs": [],
   "source": [
    "def setup_game():\n",
    "    small = list(range(1, 11))  # Possible small numbers\n",
    "    large = [25, 50, 75, 100]  # Possible large numbers\n",
    "    \n",
    "    # Prompt the user for the number of large numbers they want to use\n",
    "    while True:\n",
    "        try:\n",
    "            num_large = int(input(\"Enter the number of large numbers to use (0 to 4): \"))\n",
    "            if 0 <= num_large <= 4:\n",
    "                break\n",
    "            else:\n",
    "                print(\"Please enter a valid number between 0 and 4.\")\n",
    "        except ValueError:\n",
    "            print(\"Please enter an integer.\")\n",
    "    \n",
    "    # Select numbers based on user input\n",
    "    chosen_numbers = random.sample(small, 6 - num_large) + random.sample(large, num_large)\n",
    "    target_number = random.randint(101, 999)\n",
    "    return chosen_numbers, target_number\n"
   ]
  },
  {
   "cell_type": "markdown",
   "metadata": {},
   "source": [
    "#### `operation_allowed(num1, num2, operation)`\n",
    "Checks if an arithmetic operation is valid under game rules.\n",
    "\n",
    "- **Functionality**:\n",
    "  - **Division**: Ensures no division by zero and the result is an integer.\n",
    "  - **Subtraction**: Prevents results less than zero.\n",
    "\n",
    "- **Returns**:\n",
    "  - Boolean indicating if the operation is permissible."
   ]
  },
  {
   "cell_type": "code",
   "execution_count": 19,
   "metadata": {},
   "outputs": [],
   "source": [
    "def operation_allowed(num1, num2, operation):\n",
    "    if operation == operator.truediv and (num2 == 0 or num1 % num2 != 0):\n",
    "        return False\n",
    "    if operation == operator.sub and (num1 - num2 < 0):\n",
    "        return False\n",
    "    return True"
   ]
  },
  {
   "cell_type": "markdown",
   "metadata": {},
   "source": [
    "#### `perform_operation(num1, num2, operation)`\n",
    "Performs the specified arithmetic operation on two numbers.\n",
    "\n",
    "- **Returns**:\n",
    "  - Result of the arithmetic operation."
   ]
  },
  {
   "cell_type": "code",
   "execution_count": 20,
   "metadata": {},
   "outputs": [],
   "source": [
    "def perform_operation(num1, num2, operation):\n",
    "    return operation(num1, num2)"
   ]
  },
  {
   "cell_type": "code",
   "execution_count": 21,
   "metadata": {},
   "outputs": [],
   "source": [
    "def explore_combinations(elements):\n",
    "    if len(elements) == 1:\n",
    "        return {elements[0]: f\"{elements[0]}\"}\n",
    "    outcomes = {}\n",
    "    for i in range(len(elements)):\n",
    "        for j in range(i + 1, len(elements)):\n",
    "            num1, num2 = elements[i], elements[j]\n",
    "            other_elements = [elements[k] for k in range(len(elements)) if k != i and k != j]\n",
    "            for operation in (operator.add, operator.sub, operator.mul, operator.truediv):\n",
    "                if operation_allowed(num1, num2, operation):\n",
    "                    result = perform_operation(num1, num2, operation)\n",
    "                    operation_symbol = {operator.add: '+', operator.sub: '-', operator.mul: '*', operator.truediv: '/'}\n",
    "                    next_step_results = explore_combinations(other_elements + [result])\n",
    "                    expression_format = f\"({num1} {operation_symbol[operation]} {num2})\"\n",
    "                    for outcome, formula in next_step_results.items():\n",
    "                        combined_expression = f\"{expression_format} => {formula}\"\n",
    "                        if outcome not in outcomes or len(combined_expression) < len(outcomes[outcome]):\n",
    "                            outcomes[outcome] = combined_expression\n",
    "    return outcomes"
   ]
  },
  {
   "cell_type": "markdown",
   "metadata": {},
   "source": [
    "#### `solve_numbers(numbers, target)`\n",
    "Attempts to find the solution closest to or exactly meeting the target number.\n",
    "\n",
    "- **Functionality**:\n",
    "  - Iterates through all permutations of the provided numbers.\n",
    "  - Applies `explore_combinations` to each permutation to seek out solutions.\n",
    "  - Maintains the closest solution found relative to the target.\n",
    "\n",
    "- **Returns**:\n",
    "  - The closest or exact solution and the computation time."
   ]
  },
  {
   "cell_type": "code",
   "execution_count": 22,
   "metadata": {},
   "outputs": [
    {
     "name": "stdout",
     "output_type": "stream",
     "text": [
      "Chosen Numbers: [9, 4, 8, 5, 50, 75]\n",
      "Goal: 245\n",
      "Detailed Steps:\n",
      "(9 * 8)\n",
      "(75 - 72)\n",
      "(4 - 3)\n",
      "(50 - 1)\n",
      "(5 * 49)\n",
      "245\n",
      "Final Outcome: 245.0\n",
      "Calculation Time: 1.50 seconds\n"
     ]
    }
   ],
   "source": [
    "def solve_numbers(numbers, target):\n",
    "    start = time.time()\n",
    "    permutations_of_numbers = itertools.permutations(numbers)\n",
    "    nearest_match = None\n",
    "    minimal_difference = float('inf')\n",
    "    for sequence in permutations_of_numbers:\n",
    "        results = explore_combinations(list(sequence))\n",
    "        for value, calculation in results.items():\n",
    "            difference = abs(target - value)\n",
    "            if difference < minimal_difference:\n",
    "                minimal_difference = difference\n",
    "                nearest_match = (value, calculation)\n",
    "                if minimal_difference == 0:\n",
    "                    elapsed_time = time.time() - start\n",
    "                    return nearest_match, elapsed_time\n",
    "    elapsed_time = time.time() - start\n",
    "    return nearest_match, elapsed_time\n",
    "\n",
    "selected_numbers, game_target = setup_game()\n",
    "print(\"Chosen Numbers:\", selected_numbers)\n",
    "print(\"Goal:\", game_target)\n",
    "solution, time_taken = solve_numbers(selected_numbers, game_target)\n",
    "if solution:\n",
    "    final_result, detailed_solution = solution\n",
    "    print(\"Detailed Steps:\")\n",
    "    for step in detailed_solution.split(\" => \"):\n",
    "        print(step)\n",
    "    print(f\"Final Outcome: {final_result}\")\n",
    "else:\n",
    "    print(\"No viable solution was found.\")\n",
    "print(f\"Calculation Time: {time_taken:.2f} seconds\")\n"
   ]
  },
  {
   "cell_type": "markdown",
   "metadata": {},
   "source": [
    "\n",
    "\n",
    "## Computational Techniques in the Countdown Numbers Game Solver\n",
    "\n",
    "These are the different computational strategies we use in our Countdown game solver. These methods are crucial for making the solver both effective and efficient:\n",
    "\n",
    "### 1. **Recursive Depth Search**\n",
    "Our solver uses a method called \"recursive depth-first search\" in the `explore_combinations` function. This technique explores each possible combination of numbers and operations by diving deep into each option, then backtracking to try new possibilities until all numbers are used or a solution is found. It's a thorough way to ensure we check every possible solution.\n",
    "\n",
    "### 2. **Big O Notation**\n",
    "The performance of our solver is mainly determined by its factorial complexity, denoted as O(n!). This is because the solver checks all permutations of numbers and all combinations of operations, which makes the solver slower with the addition of more numbers. Understanding this helps us manage performance expectations.\n",
    "\n",
    "### 3. **Pruning Invalid Operations**\n",
    "To make our solver faster, we use the `operation_allowed` function, which stops the solver from following paths that won't work, like dividing by zero or getting negative results. This step reduces unnecessary calculations, making our solver more efficient.\n",
    "\n",
    "### 4. **Dynamic Input Handling**\n",
    "The `setup_game` function lets players choose how many large numbers to include, which changes the difficulty level of the game. This not only makes the game more interesting but also lets us see how changes affect the solver's performance.\n",
    "\n",
    "### 5. **Permutation Generation**\n",
    "We use a Python library feature, `itertools.permutations`, to try out every possible order of numbers. This is important because the order in which numbers are combined can change the result, especially with operations like subtraction and division.\n",
    "\n",
    "### 6. **Time Complexity Measurement**\n",
    "We measure how long it takes to find a solution, which helps us understand how effective our solver is. This feedback is crucial for seeing how different setups or changes in the algorithm affect the time it takes to solve the game.\n",
    "\n",
    "### 7. **Memoization (Potential Optimization)**\n",
    "Memoization is a technique we could add to improve our solver. It involves saving the results of previous calculations so that we don't have to do them again, which could make our solver faster, especially for larger games.\n",
    "\n",
    "### 8. **Operator Handling**\n",
    "Each arithmetic operation is carefully checked to make sure it's allowed under the game rules. This is done in the `operation_allowed` function, which helps maintain the integrity of the game by avoiding illegal moves.\n",
    "\n",
    "By understanding these techniques, you can see how our Countdown game solver works not just to solve the game, but to do it as efficiently as possible. These explanations should give you a good grasp of the computational strategies involved in our project."
   ]
  },
  {
   "cell_type": "markdown",
   "metadata": {},
   "source": [
    "***\n",
    "\n",
    "### Refrences\n",
    "http://datagenetics.com/blog/august32014/index.html\n",
    "https://www.geeksforgeeks.org/introduction-to-computation-complex-theory/\n",
    "https://colab.research.google.com/github/ianmcloughlin/notebooks/blob/main/big_o.ipynb\n",
    "https://ianmcloughlin.github.io/reverse_polish_notation/\n",
    "http://www.chrisphilpot.co.uk/writing/how-to-beat-your-friends-at-countdown\n",
    "https://favtutor.com/blogs/depth-first-search-python#:~:text=The%20recursive%20method%20of%20the,)%20Visited%202)%20Not%20Visited.\n",
    "https://www.ttested.com/polish-countdown/\n",
    "https://www.linkedin.com/advice/0/what-some-techniques-prune-search-space-when\n",
    "https://www.daitx.com/2016/05/01/countdown-math/\n",
    "https://stackoverflow.com/questions/13700045/writing-a-better-recursive-depth-first-search-in-python\n",
    "https://www.studysmarter.co.uk/explanations/computer-science/algorithms-in-computer-science/memoization/\n",
    "https://www.linkedin.com/pulse/time-complexity-calculation-python-data-structures-algorithms-yadav-xrxoc#:~:text=Let's%20consider%20an%20example%20of,respect%20to%20the%20input%20size."
   ]
  }
 ],
 "metadata": {
  "kernelspec": {
   "display_name": "Python 3",
   "language": "python",
   "name": "python3"
  },
  "language_info": {
   "codemirror_mode": {
    "name": "ipython",
    "version": 3
   },
   "file_extension": ".py",
   "mimetype": "text/x-python",
   "name": "python",
   "nbconvert_exporter": "python",
   "pygments_lexer": "ipython3",
   "version": "3.11.0"
  }
 },
 "nbformat": 4,
 "nbformat_minor": 2
}
