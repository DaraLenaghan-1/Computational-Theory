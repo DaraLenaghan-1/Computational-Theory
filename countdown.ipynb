{
 "cells": [
  {
   "cell_type": "markdown",
   "metadata": {},
   "source": [
    "# Countdown\n",
    "\n",
    "***"
   ]
  },
  {
   "cell_type": "markdown",
   "metadata": {},
   "source": [
    "### **Explanation of the Countdown Numbers Game**\n",
    "\n",
    "The Countdown Numbers Game is a challenging segment of the British game show \"Countdown\". The objective of the game is to reach a target number using a combination of arithmetic operations on a given set of numbers. Here are the detailed rules:\n",
    "\n",
    "##### **Game Setup**\n",
    "\n",
    "1. **Numbers Selection:** Six numbers are chosen at random. These numbers come from a predefined set that includes:\n",
    "\n",
    "Two sets of the numbers 1 to 10 (inclusive).\n",
    "One set each of the numbers 25, 50, 75, and 100.\n",
    "\n",
    "2. **Target Number:** A random three-digit number (between 101 and 999 inclusive) is generated. This number serves as the target for the round.\n",
    "\n",
    "##### **Gameplay Rules**\n",
    "\n",
    "1. **Basic Operations:** Players can use addition (+), subtraction (-), multiplication (×), and division (÷) to combine the chosen numbers.\n",
    "\n",
    "2. **Number Usage:**\n",
    "- Each of the six chosen numbers can be used once at most.\n",
    "- If two identical numbers are chosen, each can be used separately.\n",
    "\n",
    "3. **Restrictions on Operations:**\n",
    "\n",
    "- Division: Only allowed if it results in a whole number.\n",
    "- Subtraction: Can only be used if it results in a positive number.\n",
    "\n",
    "4. **Objective:** Players aim to reach the exact target number or get as close as possible within the given constraints.\n",
    "\n",
    "##### **Scoring**\n",
    "\n",
    "- If a player reaches the target number exactly, they score maximum points.\n",
    "- If no one reaches the target, the player with the closest number scores points based on how close they are.\n",
    "- In some cases, it might not be possible to reach the target number with the given set of numbers."
   ]
  },
  {
   "cell_type": "markdown",
   "metadata": {},
   "source": [
    "### Computational Complexity Analysis\n",
    "\n",
    "***"
   ]
  },
  {
   "cell_type": "markdown",
   "metadata": {},
   "source": [
    "**Number of Possible Combinations:**\n",
    "\n",
    "One of the first things to consider is the combination of 6 numbers chosen from the set. Ignoring the specific values and focusing on the positions, the number of ways to choose six numbers from a set of 24 (since there are two sets of 1-10, plus the four unique numbers: 25, 50, 75, 100) is given by the combination formula $C(n, k) = \\frac{n!}{k!(n-k)!}$. Where $n$ is the total number of items (24) and $k$ is the number of items to choose (6).\n",
    "\n",
    "However, considering the specific values and the possibility of repeating numbers, the calculation becomes more complex, as we must account for the permutations of these numbers, especially when duplicates are involved.\n"
   ]
  },
  {
   "cell_type": "markdown",
   "metadata": {},
   "source": [
    "**Number of Operations**\n",
    "\n",
    "For each pair of numbers, there are four possible operations. If we consider a sequence of operations on the six numbers, we must account for the exponentially growing number of ways to combine these operations as we increase the number of numbers involved.\n",
    "\n",
    "The sequence of operations can be represented as a binary tree, where each node represents an operation applied to either two numbers or the result of previous operations. The depth of this tree and the number of nodes (operations) increase significantly with each additional number."
   ]
  },
  {
   "cell_type": "markdown",
   "metadata": {},
   "source": [
    "**Big O Notation**\n",
    "\n",
    "Given the exponential growth in the number of operations and combinations as the number of involved numbers increases, the worst-case scenario for solving the Countdown numbers game algorithmically is factorial in nature, leading to a complexity of $O(n!)$ where $n$ is the number of numbers used in the calculation. This is due to the need to explore nearly every combination of numbers and operations to guarantee finding the solution.\n",
    "\n",
    "However, practical implementations often use algorithmic rule or optimization techniques to reduce the search space, such as reducing impossible or redundant paths, dynamic programming to reuse intermediate results, or even applying specific algorithms designed for constraint satisfaction problems which can lower the effective complexity for most cases."
   ]
  }
 ],
 "metadata": {
  "language_info": {
   "name": "python"
  }
 },
 "nbformat": 4,
 "nbformat_minor": 2
}
