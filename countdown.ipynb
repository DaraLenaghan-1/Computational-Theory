{
 "cells": [
  {
   "cell_type": "markdown",
   "metadata": {},
   "source": [
    "# Countdown\n",
    "\n",
    "***"
   ]
  },
  {
   "cell_type": "markdown",
   "metadata": {},
   "source": [
    "### **Explanation of the Countdown Numbers Game**\n",
    "\n",
    "The Countdown Numbers Game is a challenging segment of the British game show \"Countdown\". The objective of the game is to reach a target number using a combination of arithmetic operations on a given set of numbers. Here are the detailed rules:\n",
    "\n",
    "##### **Game Setup**\n",
    "\n",
    "1. **Numbers Selection:** Six numbers are chosen at random. These numbers come from a predefined set that includes:\n",
    "\n",
    "Two sets of the numbers 1 to 10 (inclusive).\n",
    "One set each of the numbers 25, 50, 75, and 100.\n",
    "\n",
    "2. **Target Number:** A random three-digit number (between 101 and 999 inclusive) is generated. This number serves as the target for the round.\n",
    "\n",
    "##### **Gameplay Rules**\n",
    "\n",
    "1. **Basic Operations:** Players can use addition (+), subtraction (-), multiplication (×), and division (÷) to combine the chosen numbers.\n",
    "\n",
    "2. **Number Usage:**\n",
    "- Each of the six chosen numbers can be used once at most.\n",
    "- If two identical numbers are chosen, each can be used separately.\n",
    "\n",
    "3. **Restrictions on Operations:**\n",
    "\n",
    "- Division: Only allowed if it results in a whole number.\n",
    "- Subtraction: Can only be used if it results in a positive number.\n",
    "\n",
    "4. **Objective:** Players aim to reach the exact target number or get as close as possible within the given constraints.\n",
    "\n",
    "##### **Scoring**\n",
    "\n",
    "- If a player reaches the target number exactly, they score maximum points.\n",
    "- If no one reaches the target, the player with the closest number scores points based on how close they are.\n",
    "- In some cases, it might not be possible to reach the target number with the given set of numbers."
   ]
  }
 ],
 "metadata": {
  "language_info": {
   "name": "python"
  }
 },
 "nbformat": 4,
 "nbformat_minor": 2
}
