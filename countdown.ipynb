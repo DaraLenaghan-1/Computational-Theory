{
 "cells": [
  {
   "cell_type": "markdown",
   "metadata": {},
   "source": [
    "# Countdown\n",
    "\n",
    "***"
   ]
  },
  {
   "cell_type": "markdown",
   "metadata": {},
   "source": [
    "### **Explanation of the Countdown Numbers Game**\n",
    "\n",
    "The Countdown Numbers Game is a challenging segment of the British game show \"Countdown\". The objective of the game is to reach a target number using a combination of arithmetic operations on a given set of numbers. Here are the detailed rules:\n",
    "\n",
    "##### **Game Setup**\n",
    "\n",
    "1. **Numbers Selection:** Six numbers are chosen at random. These numbers come from a predefined set that includes:\n",
    "\n",
    "Two sets of the numbers 1 to 10 (inclusive).\n",
    "One set each of the numbers 25, 50, 75, and 100.\n",
    "\n",
    "2. **Target Number:** A random three-digit number (between 101 and 999 inclusive) is generated. This number serves as the target for the round.\n",
    "\n",
    "##### **Gameplay Rules**\n",
    "\n",
    "1. **Basic Operations:** Players can use addition (+), subtraction (-), multiplication (×), and division (÷) to combine the chosen numbers.\n",
    "\n",
    "2. **Number Usage:**\n",
    "- Each of the six chosen numbers can be used once at most.\n",
    "- If two identical numbers are chosen, each can be used separately.\n",
    "\n",
    "3. **Restrictions on Operations:**\n",
    "\n",
    "- Division: Only allowed if it results in a whole number.\n",
    "- Subtraction: Can only be used if it results in a positive number.\n",
    "\n",
    "4. **Objective:** Players aim to reach the exact target number or get as close as possible within the given constraints.\n",
    "\n",
    "##### **Scoring**\n",
    "\n",
    "- If a player reaches the target number exactly, they score maximum points.\n",
    "- If no one reaches the target, the player with the closest number scores points based on how close they are.\n",
    "- In some cases, it might not be possible to reach the target number with the given set of numbers."
   ]
  },
  {
   "cell_type": "markdown",
   "metadata": {},
   "source": [
    "### Computational Complexity Analysis\n",
    "\n",
    "***"
   ]
  },
  {
   "cell_type": "markdown",
   "metadata": {},
   "source": [
    "**Number of Possible Combinations:**\n",
    "\n",
    "One of the first things to consider is the combination of 6 numbers chosen from the set. Ignoring the specific values and focusing on the positions, the number of ways to choose six numbers from a set of 24 (since there are two sets of 1-10, plus the four unique numbers: 25, 50, 75, 100) is given by the combination formula $C(n, k) = \\frac{n!}{k!(n-k)!}$. Where $n$ is the total number of items (24) and $k$ is the number of items to choose (6).\n",
    "\n",
    "However, considering the specific values and the possibility of repeating numbers, the calculation becomes more complex, as we must account for the permutations of these numbers, especially when duplicates are involved.\n"
   ]
  },
  {
   "cell_type": "markdown",
   "metadata": {},
   "source": [
    "**Number of Operations**\n",
    "\n",
    "For each pair of numbers, there are four possible operations. If we consider a sequence of operations on the six numbers, we must account for the exponentially growing number of ways to combine these operations as we increase the number of numbers involved.\n",
    "\n",
    "The sequence of operations can be represented as a binary tree, where each node represents an operation applied to either two numbers or the result of previous operations. The depth of this tree and the number of nodes (operations) increase significantly with each additional number."
   ]
  },
  {
   "cell_type": "markdown",
   "metadata": {},
   "source": [
    "**Big O Notation**\n",
    "\n",
    "Given the exponential growth in the number of operations and combinations as the number of involved numbers increases, the worst-case scenario for solving the Countdown numbers game algorithmically is factorial in nature, leading to a complexity of $O(n!)$ where $n$ is the number of numbers used in the calculation. This is due to the need to explore nearly every combination of numbers and operations to guarantee finding the solution.\n",
    "\n",
    "However, practical implementations often use algorithmic rule or optimization techniques to reduce the search space, such as reducing impossible or redundant paths, dynamic programming to reuse intermediate results, or even applying specific algorithms designed for constraint satisfaction problems which can lower the effective complexity for most cases."
   ]
  },
  {
   "cell_type": "markdown",
   "metadata": {},
   "source": [
    "***"
   ]
  },
  {
   "cell_type": "markdown",
   "metadata": {},
   "source": [
    "### Analysis of Reverse Polish Notation (RPN) Complexity\n",
    "\n",
    "Reverse Polish Notation (RPN) is a mathematical notation where every operator follows all of its operands, eliminating the need for parentheses to denote operations order. This section will explore the computational complexity of implementing and using RPN in algorithms, particularly focusing on its application in arithmetic operations as relevant to computational tasks like those in your project.\n",
    "\n",
    "#### Computational Complexity of Parsing and Evaluating RPN\n",
    "\n",
    "1. **Parsing Complexity**:\n",
    "   - **Constant Time per Element**: Parsing an RPN expression involves reading and processing each token (either an operand or operator) exactly once in a single left-to-right pass, making the parsing process linear with respect to the length of the expression. Thus, the complexity of parsing an RPN expression is \\(O(n)\\), where \\(n\\) is the number of tokens in the expression.\n",
    "\n",
    "2. **Evaluation Complexity**:\n",
    "   - **Linear Time Evaluation**: Evaluating an RPN expression also proceeds in a single pass using a stack to keep track of operands. For each operator encountered, the necessary operands are popped from the stack, the operation is performed, and the result is pushed back onto the stack. Since each token is handled once, the evaluation complexity is \\(O(n)\\), making the entire process of parsing and evaluating an RPN expression efficiently linear.\n",
    "\n",
    "#### Stack Operations and Their Efficiency\n",
    "\n",
    "The key to RPN's efficiency is the use of a stack data structure, which allows operations to be performed in constant time under typical conditions:\n",
    "\n",
    "- **Push Operation**: Adding an operand or a result to the stack takes constant time, \\(O(1)\\).\n",
    "- **Pop Operation**: Removing operands for an operation takes constant time, \\(O(1)\\).\n",
    "- **Peek Operation**: Checking the top value of the stack without removing it is done in constant time, \\(O(1)\\).\n",
    "\n",
    "These stack operations ensure that each token (operand or operator) in the RPN expression is processed in constant time, contributing to the overall linear complexity of the RPN evaluation process.\n",
    "\n",
    "#### Benefits of RPN in Computational Tasks\n",
    "\n",
    "RPN simplifies the computation of arithmetic expressions by removing the need for operator precedence and parentheses, which are essential in traditional infix notation. This simplification can lead to more straightforward implementation of algorithms that need to evaluate expressions, such as those solving the Countdown numbers game in your project. The benefits include:\n",
    "\n",
    "- **Reduced Error and Simplicity**: Fewer errors in implementation due to the straightforward nature of the parsing and evaluation process.\n",
    "- **Speed**: Faster computation times in practice, as the linear pass reduces the cognitive and computational overhead associated with managing operator precedence and parentheses.\n",
    "\n",
    "#### Considerations for Implementation in Countdown Game Solver\n",
    "\n",
    "When implementing RPN in a solver for the Countdown numbers game, consider the following:\n",
    "\n",
    "- **Expression Generation**: Efficiently generating all viable RPN expressions that could potentially solve for the target number is non-trivial and may require combinatorial strategies or heuristic approaches to manage the exponential growth of possibilities.\n",
    "- **Optimisation**: Using techniques like memoisation in conjunction with RPN can further enhance performance, especially when repeated calculations with similar operands are involved.\n",
    "\n",
    "In summary, Reverse Polish Notation offers a streamlined and efficient method for handling arithmetic expressions, particularly useful in computational projects requiring extensive calculation. Its linear complexity for parsing and evaluation makes it an attractive choice for algorithms that need to be both fast and reliable."
   ]
  },
  {
   "cell_type": "code",
   "execution_count": 5,
   "metadata": {},
   "outputs": [],
   "source": [
    "import random\n",
    "from itertools import permutations, product\n",
    "import operator\n",
    "from IPython.display import display, Markdown"
   ]
  },
  {
   "cell_type": "code",
   "execution_count": 6,
   "metadata": {},
   "outputs": [],
   "source": [
    "def convert_postfix_to_infix(expression):\n",
    "    \"\"\"\n",
    "    Converts a postfix expression to a more readable infix format.\n",
    "    \"\"\"\n",
    "    stack = []\n",
    "    for token in expression:\n",
    "        if token in \"+-*/\":\n",
    "            operand2 = stack.pop()\n",
    "            operand1 = stack.pop()\n",
    "            stack.append(f\"({operand1}{token}{operand2})\")\n",
    "        else:\n",
    "            stack.append(str(token))\n",
    "    return ''.join(stack)"
   ]
  },
  {
   "cell_type": "code",
   "execution_count": 7,
   "metadata": {},
   "outputs": [],
   "source": [
    "def solve_numbers():\n",
    "    \"\"\"\n",
    "    Runs the interactive Countdown game simulation, searching for solutions close to the target number.\n",
    "    \"\"\"\n",
    "    # Initialize game settings\n",
    "    large_numbers = [25, 50, 75, 100]\n",
    "    small_numbers = [i for i in range(1, 11)] * 2\n",
    "    continue_game = True\n",
    "\n",
    "    while continue_game:\n",
    "        try:\n",
    "            large_count = int(input(\"Enter the number of large numbers to use (0-4): \"))\n",
    "            assert 0 <= large_count <= 4\n",
    "        except (ValueError, AssertionError):\n",
    "            display(Markdown(\"Invalid input. Please enter a valid number from 0 to 4.\"))\n",
    "            continue\n",
    "\n",
    "        # Generate game numbers and target\n",
    "        numbers = random.sample(large_numbers, large_count) + random.sample(small_numbers, 6 - large_count)\n",
    "        target = random.randint(101, 999)\n",
    "        display(Markdown(f\"**Numbers:** {numbers}\"))\n",
    "        display(Markdown(f\"**Target:** {target}\"))\n",
    "\n",
    "        # Search for solutions\n",
    "        found_solution, closest_solution = find_solution(numbers, target)\n",
    "        if found_solution:\n",
    "            display(Markdown(f\"**Exact Solution Found:** {convert_postfix_to_infix(found_solution)}\"))\n",
    "        elif closest_solution:\n",
    "            display(Markdown(f\"**Close Solution:** {convert_postfix_to_infix(closest_solution)} within 5 of target\"))\n",
    "        else:\n",
    "            display(Markdown(\"**No solution found.**\"))\n",
    "\n",
    "        # Option to play again\n",
    "        if input(\"Play again? (y/n): \").lower() != 'y':\n",
    "            continue_game = False\n",
    "\n",
    "def find_solution(numbers, target):\n",
    "    \"\"\"\n",
    "    Finds exact or close solutions to the given target using specified numbers.\n",
    "    \"\"\"\n",
    "    operations = ['+', '-', '*', '/']\n",
    "    closest_diff = float('inf')\n",
    "    closest_solution = None\n",
    "    exact_solution = None\n",
    "\n",
    "    # Generate all combinations of numbers and operations\n",
    "    for nums_perm in permutations(numbers):\n",
    "        for ops_comb in product(operations, repeat=len(numbers)-1):\n",
    "            expr = []\n",
    "            for num, op in zip(nums_perm, ops_comb):\n",
    "                expr.extend([num, op])\n",
    "            expr.append(nums_perm[-1])  # add the last number\n",
    "\n",
    "            # Evaluate the expression\n",
    "            try:\n",
    "                result = evaluate_expression(expr)\n",
    "                diff = abs(target - result)\n",
    "                if result == target:\n",
    "                    exact_solution = expr\n",
    "                    break\n",
    "                elif diff < closest_diff and diff <= 5:\n",
    "                    closest_diff = diff\n",
    "                    closest_solution = expr\n",
    "            except:\n",
    "                continue\n",
    "\n",
    "    return exact_solution, closest_solution\n",
    "\n",
    "def evaluate_expression(expr):\n",
    "    \"\"\"\n",
    "    Evaluates a postfix expression and returns the result.\n",
    "    \"\"\"\n",
    "    stack = []\n",
    "    for token in expr:\n",
    "        if token in operator.add:\n",
    "            b = stack.pop()\n",
    "            a = stack.pop()\n",
    "            stack.append(operations[token](a, b))\n",
    "        else:\n",
    "            stack.append(token)\n",
    "    return stack.pop()\n"
   ]
  },
  {
   "cell_type": "code",
   "execution_count": 8,
   "metadata": {},
   "outputs": [
    {
     "data": {
      "text/markdown": [
       "**Numbers:** [100, 7, 8, 6, 6, 9]"
      ],
      "text/plain": [
       "<IPython.core.display.Markdown object>"
      ]
     },
     "metadata": {},
     "output_type": "display_data"
    },
    {
     "data": {
      "text/markdown": [
       "**Target:** 700"
      ],
      "text/plain": [
       "<IPython.core.display.Markdown object>"
      ]
     },
     "metadata": {},
     "output_type": "display_data"
    },
    {
     "data": {
      "text/markdown": [
       "**No solution found.**"
      ],
      "text/plain": [
       "<IPython.core.display.Markdown object>"
      ]
     },
     "metadata": {},
     "output_type": "display_data"
    }
   ],
   "source": [
    "solve_numbers()"
   ]
  }
 ],
 "metadata": {
  "kernelspec": {
   "display_name": "Python 3",
   "language": "python",
   "name": "python3"
  },
  "language_info": {
   "codemirror_mode": {
    "name": "ipython",
    "version": 3
   },
   "file_extension": ".py",
   "mimetype": "text/x-python",
   "name": "python",
   "nbconvert_exporter": "python",
   "pygments_lexer": "ipython3",
   "version": "3.11.0"
  }
 },
 "nbformat": 4,
 "nbformat_minor": 2
}
